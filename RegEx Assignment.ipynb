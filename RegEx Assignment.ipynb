{
 "cells": [
  {
   "cell_type": "markdown",
   "id": "d8601e64",
   "metadata": {},
   "source": [
    "# RegEX Assignment"
   ]
  },
  {
   "cell_type": "markdown",
   "id": "e5e82663",
   "metadata": {},
   "source": [
    "Q1.Write a Python program to check that a string contains only a certain set of characters (in this case a-z, A-Z and 0-9).\n"
   ]
  },
  {
   "cell_type": "code",
   "execution_count": 1,
   "id": "f0711c49",
   "metadata": {},
   "outputs": [],
   "source": [
    "import string\n",
    "import re"
   ]
  },
  {
   "cell_type": "code",
   "execution_count": 4,
   "id": "0ddf8070",
   "metadata": {},
   "outputs": [
    {
     "name": "stdout",
     "output_type": "stream",
     "text": [
      "Enter: Ramakrishna12@rte$#%^67\n",
      "String contains not only a certain set of characters in the case of (a-z, A-Z and 0-9)\n"
     ]
    }
   ],
   "source": [
    "import string\n",
    "import re\n",
    "text = input(\"Enter: \")\n",
    "Check_string = string.ascii_letters + string.digits\n",
    "status = True\n",
    "for i in text:\n",
    "    if i not in Check_string:\n",
    "        status = False\n",
    "if status:\n",
    "    print('String contains only  certain set of characters in the case of (a-z, A-Z and 0-9)')\n",
    "else:\n",
    "    print('String contains not only  certain set of characters in the case of (a-z, A-Z and 0-9)')"
   ]
  },
  {
   "cell_type": "markdown",
   "id": "63229bad",
   "metadata": {},
   "source": [
    "Q2.Create a function in python that matches a string that has an a followed by zero or more b's\n"
   ]
  },
  {
   "cell_type": "code",
   "execution_count": 8,
   "id": "353da913",
   "metadata": {},
   "outputs": [
    {
     "name": "stdout",
     "output_type": "stream",
     "text": [
      "Enter: rama has love\n",
      "Matched\n"
     ]
    }
   ],
   "source": [
    "text = input(\"Enter: \")\n",
    "def match_string(text):\n",
    "    pattern = 'ab*'\n",
    "    if re.search(pattern, text):\n",
    "        return \"Matched\"\n",
    "    else:\n",
    "        return \"Not Matched\"\n",
    "print(match_string(text))\n"
   ]
  },
  {
   "cell_type": "markdown",
   "id": "cc784ee5",
   "metadata": {},
   "source": [
    "Q3. Create a function in python that matches a string that has an a followed by one or more b's"
   ]
  },
  {
   "cell_type": "code",
   "execution_count": 12,
   "id": "9ac88486",
   "metadata": {},
   "outputs": [
    {
     "name": "stdout",
     "output_type": "stream",
     "text": [
      "Enter: rama has love\n",
      "Not Matched\n"
     ]
    }
   ],
   "source": [
    "text = input(\"Enter: \")\n",
    "def match_string(text):\n",
    "    pattern = 'ab+'\n",
    "    if re.search(pattern, text):\n",
    "        return \"Matched\"\n",
    "    else:\n",
    "        return \"Not Matched\"\n",
    "print(match_string(text))"
   ]
  },
  {
   "cell_type": "markdown",
   "id": "58775af9",
   "metadata": {},
   "source": [
    "Q4.Create a function in Python and use RegEx that matches a string that has an a followed by zero or one 'b'."
   ]
  },
  {
   "cell_type": "code",
   "execution_count": 31,
   "id": "22026b96",
   "metadata": {},
   "outputs": [
    {
     "name": "stdout",
     "output_type": "stream",
     "text": [
      "Enter: india won serirs\n",
      "Matched\n"
     ]
    }
   ],
   "source": [
    "text = input(\"Enter: \")\n",
    "def match_string(text):\n",
    "    pattern = 'ab?'\n",
    "    if re.search(pattern, text):\n",
    "        return \"Matched\"\n",
    "    else:\n",
    "        return \"Not Matched\"\n",
    "print(match_string(text))\n"
   ]
  },
  {
   "cell_type": "markdown",
   "id": "d56d6180",
   "metadata": {},
   "source": [
    "Q5.Write a Python program that matches a string that has an a followed by three 'b'"
   ]
  },
  {
   "cell_type": "code",
   "execution_count": 44,
   "id": "847f4ddf",
   "metadata": {},
   "outputs": [
    {
     "name": "stdout",
     "output_type": "stream",
     "text": [
      "Enter: india won series abbbs\n",
      "Matched\n"
     ]
    }
   ],
   "source": [
    "text = input(\"Enter: \")\n",
    "def match_string(text):\n",
    "    pattern = 'ab{3}'\n",
    "    if re.search(pattern, text):\n",
    "        return \"Matched\"\n",
    "    else:\n",
    "        return \"Not Matched\"\n",
    "print(match_string(text))"
   ]
  },
  {
   "cell_type": "markdown",
   "id": "7b9d5973",
   "metadata": {},
   "source": [
    "Q6.Write a regular expression in Python to split a string into uppercase letters.\n",
    "Sample text: “ImportanceOfRegularExpressionsInPython”\n",
    "Output: [‘Importance’, ‘Of’, ‘Regular’, ‘Expression’, ‘In’, ‘Python’]\n"
   ]
  },
  {
   "cell_type": "code",
   "execution_count": 54,
   "id": "617a1839",
   "metadata": {},
   "outputs": [
    {
     "name": "stdout",
     "output_type": "stream",
     "text": [
      "['Importance', 'Of', 'Regular', 'Expressions', 'In', 'Python']\n"
     ]
    }
   ],
   "source": [
    "text='ImportanceOfRegularExpressionsInPython'\n",
    "x=(re.findall('[A-Z][^A-Z]*', text))\n",
    "print(x)"
   ]
  },
  {
   "cell_type": "markdown",
   "id": "c1db9269",
   "metadata": {},
   "source": [
    "Q7.Write a Python program that matches a string that has an a followed by two to three 'b'."
   ]
  },
  {
   "cell_type": "code",
   "execution_count": 59,
   "id": "d1512683",
   "metadata": {},
   "outputs": [
    {
     "name": "stdout",
     "output_type": "stream",
     "text": [
      "Enter: india won series abbs\n",
      "Matched\n"
     ]
    }
   ],
   "source": [
    "text = input(\"Enter: \")\n",
    "def match_string(text):\n",
    "    pattern = 'ab{2,3}'\n",
    "    if re.search(pattern, text):\n",
    "        return \"Matched\"\n",
    "    else:\n",
    "        return \"Not Matched\"\n",
    "print(match_string(text))"
   ]
  },
  {
   "cell_type": "markdown",
   "id": "ce44ede9",
   "metadata": {},
   "source": [
    "Q8.Write a Python program to find sequences of lowercase letters joined with a underscore"
   ]
  },
  {
   "cell_type": "code",
   "execution_count": 62,
   "id": "1a730654",
   "metadata": {},
   "outputs": [
    {
     "name": "stdout",
     "output_type": "stream",
     "text": [
      "Enter: rams_AbS\n",
      "Not Matched\n"
     ]
    }
   ],
   "source": [
    "text = input(\"Enter: \")\n",
    "def match_string(text):\n",
    "    pattern = '^[a-z]+_[a-z]+$'\n",
    "    if re.search(pattern, text):\n",
    "        return \"Matched\"\n",
    "    else:\n",
    "        return \"Not Matched\"\n",
    "print(match_string(text))"
   ]
  },
  {
   "cell_type": "markdown",
   "id": "d72ba2cf",
   "metadata": {},
   "source": [
    "Q9.Write a Python program that matches a string that has an 'a' followed by anything, ending in 'b'."
   ]
  },
  {
   "cell_type": "code",
   "execution_count": 64,
   "id": "92f1c4d6",
   "metadata": {},
   "outputs": [
    {
     "name": "stdout",
     "output_type": "stream",
     "text": [
      "Enter: india dwon series cdfb\n",
      "Matched\n"
     ]
    }
   ],
   "source": [
    "text = input(\"Enter: \")\n",
    "def match_string(text):\n",
    "    pattern = 'a.*?b$'\n",
    "    if re.search(pattern, text):\n",
    "        return \"Matched\"\n",
    "    else:\n",
    "        return \"Not Matched\"\n",
    "print(match_string(text))"
   ]
  },
  {
   "cell_type": "markdown",
   "id": "d48d41eb",
   "metadata": {},
   "source": [
    "Q 10.Write a Python program that matches a word at the beginning of a string"
   ]
  },
  {
   "cell_type": "code",
   "execution_count": 68,
   "id": "c7d4dc34",
   "metadata": {},
   "outputs": [
    {
     "name": "stdout",
     "output_type": "stream",
     "text": [
      "Enter: #india won\n",
      "Not Matched\n"
     ]
    }
   ],
   "source": [
    "text = input(\"Enter: \")\n",
    "def match_string(text):\n",
    "    pattern = '^\\w+'\n",
    "    if re.search(pattern, text):\n",
    "        return \"Matched\"\n",
    "    else:\n",
    "        return \"Not Matched\"\n",
    "print(match_string(text))"
   ]
  },
  {
   "cell_type": "markdown",
   "id": "96c30c91",
   "metadata": {},
   "source": [
    "Q11.Write a Python program to match a string that contains only upper and lowercase letters, numbers, and underscores."
   ]
  },
  {
   "cell_type": "code",
   "execution_count": 70,
   "id": "cccc688f",
   "metadata": {
    "scrolled": true
   },
   "outputs": [
    {
     "name": "stdout",
     "output_type": "stream",
     "text": [
      "Enter: India_won_the_Match_12345\n",
      "Matched\n"
     ]
    }
   ],
   "source": [
    "text = input(\"Enter: \")\n",
    "def match_string(text):\n",
    "    pattern = '^[a-zA-Z0-9_]*$'\n",
    "    if re.search(pattern, text):\n",
    "        return \"Matched\"\n",
    "    else:\n",
    "        return \"Not Matched\"\n",
    "print(match_string(text))"
   ]
  },
  {
   "cell_type": "markdown",
   "id": "84ce845b",
   "metadata": {},
   "source": [
    "Q12.Write a Python program where a string will start with a specific number"
   ]
  },
  {
   "cell_type": "code",
   "execution_count": 15,
   "id": "8f3c5d99",
   "metadata": {},
   "outputs": [
    {
     "name": "stdout",
     "output_type": "stream",
     "text": [
      "enter string:24568\n",
      "enter number to start with: 2\n",
      "True\n"
     ]
    }
   ],
   "source": [
    "text = input(\"enter string:\")\n",
    "x=input(\"enter number to start with: \")\n",
    "\n",
    "result = text.startswith(x)\n",
    "print(result)"
   ]
  },
  {
   "cell_type": "markdown",
   "id": "3809f215",
   "metadata": {},
   "source": [
    "Q13.Write a Python program to remove leading zeros from an IP address"
   ]
  },
  {
   "cell_type": "code",
   "execution_count": 73,
   "id": "b7cba436",
   "metadata": {},
   "outputs": [
    {
     "name": "stdout",
     "output_type": "stream",
     "text": [
      "Enter: 125.32.01.02\n",
      "125.32.1.2\n"
     ]
    }
   ],
   "source": [
    "IP = input(\"Enter: \")\n",
    "string = re.sub('\\.[0]*', '.', IP)\n",
    "print(string)"
   ]
  },
  {
   "cell_type": "markdown",
   "id": "4aa90891",
   "metadata": {},
   "source": [
    "Q14.Write a regular expression in python to match a date string in the form of Month name followed by day number and year stored in a text file."
   ]
  },
  {
   "cell_type": "code",
   "execution_count": 44,
   "id": "ebcfe382",
   "metadata": {},
   "outputs": [
    {
     "name": "stdout",
     "output_type": "stream",
     "text": [
      "Match found!\n",
      "Month:  July\n",
      "Day:  14\n",
      "Year:  2023\n"
     ]
    }
   ],
   "source": [
    "pattern = r\"([a-zA-Z]+) (\\d{1,2}), (\\d{4})\"\n",
    "f=open(r\"C:\\Users\\shyamanthulaRamakris\\OneDrive\\Desktop\\DS Internship\\Sample text2.txt\")\n",
    "text = f.read()\n",
    "match = re.search(pattern, text)\n",
    "\n",
    "if match:\n",
    "    print(\"Match found!\")\n",
    "    print(\"Month: \", match.group(1))\n",
    "    print(\"Day: \", match.group(2))\n",
    "    print(\"Year: \", match.group(3))\n",
    "else:\n",
    "    print(\"Match not found.\")\n"
   ]
  },
  {
   "cell_type": "markdown",
   "id": "3339c994",
   "metadata": {},
   "source": [
    "Q15.Write a Python program to search some literals strings in a string. Go to the editor"
   ]
  },
  {
   "cell_type": "markdown",
   "id": "4e44ecfb",
   "metadata": {},
   "source": [
    "Sample text : 'The quick brown fox jumps over the lazy dog.'"
   ]
  },
  {
   "cell_type": "markdown",
   "id": "75af12e2",
   "metadata": {},
   "source": [
    "Searched words : 'fox', 'dog', 'horse'"
   ]
  },
  {
   "cell_type": "code",
   "execution_count": 74,
   "id": "17b79678",
   "metadata": {},
   "outputs": [
    {
     "name": "stdout",
     "output_type": "stream",
     "text": [
      "Searching for \"fox\" in \"The quick brown fox jumps over the lazy dog.\" \n",
      "Matched!\n",
      "Searching for \"dog\" in \"The quick brown fox jumps over the lazy dog.\" \n",
      "Matched!\n",
      "Searching for \"horse\" in \"The quick brown fox jumps over the lazy dog.\" \n",
      "Not Matched!\n"
     ]
    }
   ],
   "source": [
    "text = 'The quick brown fox jumps over the lazy dog.'\n",
    "patterns = [ 'fox', 'dog', 'horse' ]\n",
    "for pattern in patterns:\n",
    "    print('Searching for \"%s\" in \"%s\" ' % (pattern, text),)\n",
    "    if re.search(pattern,  text):\n",
    "        print('Matched!')\n",
    "    else:\n",
    "        print('Not Matched!')"
   ]
  },
  {
   "cell_type": "markdown",
   "id": "60fc2e75",
   "metadata": {},
   "source": [
    "Q16.Write a Python program to search a literals string in a string and also find the location within the original string where the pattern occurs"
   ]
  },
  {
   "cell_type": "markdown",
   "id": "61a14e75",
   "metadata": {},
   "source": [
    "Sample text : 'The quick brown fox jumps over the lazy dog.'"
   ]
  },
  {
   "cell_type": "markdown",
   "id": "ecc1a1fb",
   "metadata": {},
   "source": [
    "Searched words : 'fox'"
   ]
  },
  {
   "cell_type": "code",
   "execution_count": 76,
   "id": "638d6e49",
   "metadata": {},
   "outputs": [
    {
     "name": "stdout",
     "output_type": "stream",
     "text": [
      "Found \"fox\" in \"The quick brown fox jumps over the lazy dog.\" from 16 to 19 \n"
     ]
    }
   ],
   "source": [
    "text = 'The quick brown fox jumps over the lazy dog.'\n",
    "pattern = 'fox'\n",
    "match = re.search(pattern, text)\n",
    "s = match.start()\n",
    "e = match.end()\n",
    "print('Found \"%s\" in \"%s\" from %d to %d ' % \\\n",
    "    (match.re.pattern, match.string, s, e))"
   ]
  },
  {
   "cell_type": "markdown",
   "id": "38ba6e97",
   "metadata": {},
   "source": [
    "Q17.Write a Python program to find the substrings within a string."
   ]
  },
  {
   "cell_type": "markdown",
   "id": "9b063cde",
   "metadata": {},
   "source": [
    "Sample text : 'Python exercises, PHP exercises, C# exercises'"
   ]
  },
  {
   "cell_type": "markdown",
   "id": "bbc2d421",
   "metadata": {},
   "source": [
    "Pattern : 'exercises'."
   ]
  },
  {
   "cell_type": "code",
   "execution_count": 78,
   "id": "e31d74e1",
   "metadata": {},
   "outputs": [
    {
     "name": "stdout",
     "output_type": "stream",
     "text": [
      "['exercises', 'exercises', 'exercises']\n"
     ]
    }
   ],
   "source": [
    "text = 'Python exercises, PHP exercises, C# exercises'\n",
    "pattern = 'exercises'\n",
    "x= re.findall(pattern, text)\n",
    "print(x)"
   ]
  },
  {
   "cell_type": "markdown",
   "id": "44b95c46",
   "metadata": {},
   "source": [
    "Q18.Write a Python program to find the occurrence and position of the substrings within a string."
   ]
  },
  {
   "cell_type": "code",
   "execution_count": 79,
   "id": "ffcc0946",
   "metadata": {},
   "outputs": [
    {
     "name": "stdout",
     "output_type": "stream",
     "text": [
      "[0, 31]\n"
     ]
    }
   ],
   "source": [
    "text = \"the quick brown fox jumps over the lazy dog.\"\n",
    "pattern='the'\n",
    "indices_object = re.finditer(pattern, string=text)\n",
    "indices = [index.start() for index in indices_object]\n",
    "print(indices)"
   ]
  },
  {
   "cell_type": "markdown",
   "id": "f73c0eb1",
   "metadata": {},
   "source": [
    "Q19.Write a Python program to convert a date of yyyy-mm-dd format to dd-mm-yyyy format."
   ]
  },
  {
   "cell_type": "code",
   "execution_count": 81,
   "id": "56ae17de",
   "metadata": {},
   "outputs": [
    {
     "name": "stdout",
     "output_type": "stream",
     "text": [
      "Enter Date:2023-07-12\n",
      "Original date in YYY-MM-DD Format:  2023-07-12\n",
      "New date in DD-MM-YYYY Format:  12-07-2023\n"
     ]
    }
   ],
   "source": [
    "def change_date_format(dt):\n",
    "        return re.sub(r'(\\d{4})-(\\d{1,2})-(\\d{1,2})', '\\\\3-\\\\2-\\\\1', dt)\n",
    "original_date = input('Enter Date:')\n",
    "print(\"Original date in YYY-MM-DD Format: \",original_date )\n",
    "print(\"New date in DD-MM-YYYY Format: \",change_date_format(original_date ))"
   ]
  },
  {
   "cell_type": "markdown",
   "id": "2dcaa2cb",
   "metadata": {},
   "source": [
    "Q20.Write a Python program to find all words starting with 'a' or 'e' in a given string."
   ]
  },
  {
   "cell_type": "code",
   "execution_count": 82,
   "id": "83feeef9",
   "metadata": {},
   "outputs": [
    {
     "name": "stdout",
     "output_type": "stream",
     "text": [
      "['am', 'all', 'arting']\n"
     ]
    }
   ],
   "source": [
    "text = \"Write a Python program to find all words starting with\"\n",
    "\n",
    "list = re.findall(\"[ae]\\w+\", text)\n",
    "\n",
    "print(list)"
   ]
  },
  {
   "cell_type": "markdown",
   "id": "15af188a",
   "metadata": {},
   "source": [
    "Q21.Write a Python program to separate and print the numbers and their position of a given string."
   ]
  },
  {
   "cell_type": "code",
   "execution_count": 5,
   "id": "976744a8",
   "metadata": {},
   "outputs": [
    {
     "name": "stdout",
     "output_type": "stream",
     "text": [
      "29\n",
      "Index position: 10\n",
      "7\n",
      "Index position: 24\n"
     ]
    }
   ],
   "source": [
    "text= \"India has 29 states and 7 Union Territories\"\n",
    "for m in re.finditer(\"\\d+\", text):\n",
    "    print(m.group(0))\n",
    "    print(\"Index position:\", m.start())"
   ]
  },
  {
   "cell_type": "markdown",
   "id": "3c45ab28",
   "metadata": {},
   "source": [
    "Q22.Write a regular expression in python program to extract maximum numeric value from a string"
   ]
  },
  {
   "cell_type": "code",
   "execution_count": 4,
   "id": "ff0d5e2b",
   "metadata": {},
   "outputs": [
    {
     "name": "stdout",
     "output_type": "stream",
     "text": [
      "Max_value: 549\n"
     ]
    }
   ],
   "source": [
    "string='India has 29 states,7 Union Territories,population is 1.45B, MP are 549'\n",
    "\n",
    "number = re.findall('\\d+', string)\n",
    "\n",
    "number = map(int, number)\n",
    "print(\"Max_value:\",max(number))"
   ]
  },
  {
   "cell_type": "markdown",
   "id": "19ecaac3",
   "metadata": {},
   "source": [
    "Q23.Write a Regex in Python to put spaces between words starting with capital letters"
   ]
  },
  {
   "cell_type": "code",
   "execution_count": 6,
   "id": "3e6caa77",
   "metadata": {},
   "outputs": [
    {
     "name": "stdout",
     "output_type": "stream",
     "text": [
      "Welcome To The World Of Data Science\n"
     ]
    }
   ],
   "source": [
    "text='WelcomeToTheWorldOfDataScience'\n",
    " \n",
    "words = re.findall('[A-Z][a-z]*', text)\n",
    "\n",
    "print(' '.join((words)))"
   ]
  },
  {
   "cell_type": "markdown",
   "id": "5ec87637",
   "metadata": {},
   "source": [
    "Q24.Python regex to find sequences of one upper case letter followed by lower case letters"
   ]
  },
  {
   "cell_type": "code",
   "execution_count": 13,
   "id": "6b7a3c71",
   "metadata": {},
   "outputs": [
    {
     "name": "stdout",
     "output_type": "stream",
     "text": [
      "Yes\n",
      "No\n",
      "No\n",
      "Yes\n",
      "No\n",
      "No\n",
      "No\n",
      "Yes\n"
     ]
    }
   ],
   "source": [
    "def match(text):\n",
    "         \n",
    "        pattern = '[A-Z]+[a-z]+$'\n",
    "        if re.search(pattern, text):\n",
    "                return('Yes')\n",
    "        else:\n",
    "                return('No')\n",
    "\n",
    "print(match(\"India has 29 states,7 Union Territories\"))\n",
    "print(match(\"welcome to the world of datascience\"))\n",
    "print(match(\"Write a Python program to find all words starting with\"))\n",
    "print(match(\"Python\"))\n",
    "print(match(\"python\"))\n",
    "print(match(\"PYTHON\"))\n",
    "print(match(\"raMA\"))\n",
    "print(match(\"Ram\"))"
   ]
  },
  {
   "cell_type": "markdown",
   "id": "ce35e55a",
   "metadata": {},
   "source": [
    "Q25.Write a Python program to remove duplicate words from Sentence using Regular Expression"
   ]
  },
  {
   "cell_type": "code",
   "execution_count": 22,
   "id": "fdd6af5d",
   "metadata": {},
   "outputs": [
    {
     "name": "stdout",
     "output_type": "stream",
     "text": [
      "The quick brown fox jumps over the lazy dog.\n"
     ]
    }
   ],
   "source": [
    "def removeDuplicatesFromText(text):\n",
    "    pattern = r'\\b(\\w+)(?:\\W+\\1\\b)+' \n",
    "    return re.sub(pattern, r'\\1', text, flags=re.IGNORECASE)\n",
    "\n",
    "string = \"The quick brown fox fox jumps over the the lazy lazy dog dog.\"\n",
    "print(removeDuplicatesFromText(string))\n",
    "\n"
   ]
  },
  {
   "cell_type": "markdown",
   "id": "4f7f8baa",
   "metadata": {},
   "source": [
    "Q26.Write a python program using RegEx to accept string ending with alphanumeric character."
   ]
  },
  {
   "cell_type": "code",
   "execution_count": 34,
   "id": "b58733e1",
   "metadata": {},
   "outputs": [
    {
     "name": "stdout",
     "output_type": "stream",
     "text": [
      "The string is : DataScience@\n",
      "The string does not end with an alphanumeric character\n",
      "\n",
      "The string is : DataScience@2304\n",
      "The string ends with an alphanumeric character\n",
      "enter string:Who are you\n",
      "\n",
      "The string is : Who are you\n",
      "The string ends with an alphanumeric character\n"
     ]
    }
   ],
   "source": [
    "pattern = '[a-zA-z0-9]$'\n",
    "\n",
    "def string_end(text):\n",
    "    if(re.search(pattern, text)):\n",
    "        print(\"The string ends with an alphanumeric character\")\n",
    "    else:\n",
    "        print(\"The string does not end with an alphanumeric character\")\n",
    "\n",
    "my_string_1 = \"DataScience@\"\n",
    "print(\"The string is :\",my_string_1)\n",
    "string_end(my_string_1)\n",
    "\n",
    "my_string_2 = \"DataScience@2304\"\n",
    "print(\"\\nThe string is :\",my_string_2)\n",
    "string_end(my_string_2)\n",
    "\n",
    "my_string_3 = input(\"enter string:\")\n",
    "print(\"\\nThe string is :\",my_string_3)\n",
    "string_end(my_string_3)"
   ]
  },
  {
   "cell_type": "markdown",
   "id": "15f861d6",
   "metadata": {},
   "source": [
    "Q27.Write a python program using RegEx to extract the hashtags."
   ]
  },
  {
   "cell_type": "markdown",
   "id": "e71e754f",
   "metadata": {},
   "source": [
    "Sample Text: text = \"\"\"RT @kapil_kausik: #Doltiwal I mean #xyzabc is \"hurt\" by #Demonetization as the same has rendered USELESS <ed><U+00A0><U+00BD><ed><U+00B1><U+0089> \"acquired funds\" No wo\"\"\""
   ]
  },
  {
   "cell_type": "markdown",
   "id": "f6aee4dd",
   "metadata": {},
   "source": [
    "Output: ['#Doltiwal', '#xyzabc', '#Demonetization']"
   ]
  },
  {
   "cell_type": "code",
   "execution_count": 38,
   "id": "13e22fd9",
   "metadata": {},
   "outputs": [
    {
     "name": "stdout",
     "output_type": "stream",
     "text": [
      "['#Doltiwal', '#xyzabc', '#Demonetization']\n"
     ]
    }
   ],
   "source": [
    "def extract_hashtags(text):\n",
    "    hashtags = re.findall(r'\\#\\w+', text)\n",
    "    return hashtags\n",
    "\n",
    "text =\"\"\"RT @kapil_kausik: #Doltiwal I mean #xyzabc is \"hurt\" by #Demonetization as the\n",
    "        same has rendered USELESS <U+00A0><U+00BD><U+00B1><U+0089> \"acquired funds\" No wo\"\"\"\n",
    "print(extract_hashtags(text))"
   ]
  },
  {
   "cell_type": "markdown",
   "id": "5749bde9",
   "metadata": {},
   "source": [
    "Q28.Write a python program using RegEx to remove <U+..> like symbols\n",
    "Check the below sample text, there are strange symbols something of the sort <U+..> all over the place. You need to come up with a general Regex expression that will cover all such symbols.\n"
   ]
  },
  {
   "cell_type": "markdown",
   "id": "e78d2a4f",
   "metadata": {},
   "source": [
    "Sample Text: \"@Jags123456 Bharat band on 28??<ed><U+00A0><U+00BD><ed><U+00B8><U+0082>Those who  are protesting #demonetization  are all different party leaders\""
   ]
  },
  {
   "cell_type": "markdown",
   "id": "d91bd189",
   "metadata": {},
   "source": [
    "Output: @Jags123456 Bharat band on 28??<ed><ed>Those who  are protesting #demonetization  are all different party leaders"
   ]
  },
  {
   "cell_type": "code",
   "execution_count": 6,
   "id": "851a226c",
   "metadata": {},
   "outputs": [
    {
     "name": "stdout",
     "output_type": "stream",
     "text": [
      "@Jags123456 Bharat band on 28??Those who are protesting #demonetization are all different party leaders\n"
     ]
    }
   ],
   "source": [
    "def remove_symbols(text):\n",
    "    return re.sub(r'<U\\+[0-9A-Fa-f]+>', '', text)\n",
    "\n",
    "sample_text = \"@Jags123456 Bharat band on 28??<U+00A0><U+00BD><U+00B8><U+0082>Those who are protesting #demonetization are all different party leaders\"\n",
    "print(remove_symbols(sample_text))"
   ]
  },
  {
   "cell_type": "markdown",
   "id": "536b99da",
   "metadata": {},
   "source": [
    "Q29.- Write a python program to extract dates from the text stored in the text file."
   ]
  },
  {
   "cell_type": "markdown",
   "id": "a9f557c6",
   "metadata": {},
   "source": [
    "Sample Text: Ron was born on 12-09-1992 and he was admitted to school 15-12-1999."
   ]
  },
  {
   "cell_type": "markdown",
   "id": "3677ff1f",
   "metadata": {},
   "source": [
    "Store this sample text in the file and then extract dates."
   ]
  },
  {
   "cell_type": "code",
   "execution_count": 18,
   "id": "8ba7f258",
   "metadata": {},
   "outputs": [
    {
     "name": "stdout",
     "output_type": "stream",
     "text": [
      "['12-09-1992', '15-12-1999']\n"
     ]
    }
   ],
   "source": [
    "def extract_dates(file_path):\n",
    "    with open(file_path) as f:\n",
    "        text = f.read()\n",
    "        pattern = r'\\d{1,2}[-/]\\d{1,2}[-/]\\d{4}'\n",
    "        dates = re.findall(pattern, text)\n",
    "        return dates\n",
    "\n",
    "file_path = r'C:\\Users\\shyamanthulaRamakris\\OneDrive\\Desktop\\DS Internship\\Sample text1.txt'\n",
    "dates = extract_dates(file_path)\n",
    "print(dates)"
   ]
  },
  {
   "cell_type": "markdown",
   "id": "0eae1655",
   "metadata": {},
   "source": [
    "Q30.Write a Python program to replace all occurrences of a space, comma, or dot with a colon."
   ]
  },
  {
   "cell_type": "markdown",
   "id": "9cf2dc19",
   "metadata": {},
   "source": [
    "Sample Text- 'Python Exercises, PHP exercises.'"
   ]
  },
  {
   "cell_type": "markdown",
   "id": "fa663ac6",
   "metadata": {},
   "source": [
    "Output: Python:Exercises::PHP:exercises:"
   ]
  },
  {
   "cell_type": "code",
   "execution_count": 19,
   "id": "1b198374",
   "metadata": {},
   "outputs": [
    {
     "name": "stdout",
     "output_type": "stream",
     "text": [
      "Python:Exercises::PHP:exercises:\n"
     ]
    }
   ],
   "source": [
    "text = 'Python Exercises, PHP exercises.'\n",
    "print(re.sub(\"[ ,.]\", \":\", text))"
   ]
  }
 ],
 "metadata": {
  "kernelspec": {
   "display_name": "Python 3 (ipykernel)",
   "language": "python",
   "name": "python3"
  },
  "language_info": {
   "codemirror_mode": {
    "name": "ipython",
    "version": 3
   },
   "file_extension": ".py",
   "mimetype": "text/x-python",
   "name": "python",
   "nbconvert_exporter": "python",
   "pygments_lexer": "ipython3",
   "version": "3.9.13"
  }
 },
 "nbformat": 4,
 "nbformat_minor": 5
}
